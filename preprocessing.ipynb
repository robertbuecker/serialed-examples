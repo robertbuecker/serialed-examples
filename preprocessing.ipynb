{
 "cells": [
  {
   "cell_type": "code",
   "execution_count": 1,
   "metadata": {
    "pycharm": {
     "is_executing": false
    }
   },
   "outputs": [],
   "source": [
    "# for developers\n",
    "%load_ext autoreload\n",
    "%autoreload 2"
   ]
  },
  {
   "cell_type": "code",
   "execution_count": 3,
   "metadata": {
    "pycharm": {
     "is_executing": false
    },
    "tags": []
   },
   "outputs": [
    {
     "name": "stdout",
     "output_type": "stream",
     "text": [
      "Running on diffractem: v0.3.4-39-g3db9f6f\n",
      "Running on CrystFEL: 0.9.1+f937b91c\n",
      "Current path is: /nas/localdata/30388/serialed/serialed-examples\n"
     ]
    }
   ],
   "source": [
    "# import hdf5plugin # required to access LZ4-encoded HDF5 data sets, if not on your global path\n",
    "import matplotlib.pyplot as plt\n",
    "from diffractem import version, proc2d, pre_proc_opts, io\n",
    "from diffractem.dataset import Dataset\n",
    "from tifffile import imread\n",
    "import numpy as np\n",
    "from dask.distributed import Client, LocalCluster, TimeoutError\n",
    "import os\n",
    "import pandas as pd\n",
    "\n",
    "%matplotlib widget\n",
    "\n",
    "opts = pre_proc_opts.PreProcOpts('preproc.yaml')\n",
    "# opts.im_exc = 'indexamajig'\n",
    "cfver = !{opts.im_exc} -v\n",
    "print(f'Running on diffractem:', version())\n",
    "print(f'Running on', cfver[0])\n",
    "print(f'Current path is:', os.getcwd())\n",
    "\n",
    "pxmask=imread(opts.pxmask)\n",
    "reference=imread(opts.reference)"
   ]
  },
  {
   "cell_type": "markdown",
   "metadata": {},
   "source": [
    "# Pre-processing of SerialED data\n",
    "...from raw diffraction data in _NeXus_ format files to cleaned, sorted, selected, and corrected diffraction data, and accurate information about peak and pattern center positions for further steps. This comprises:\n",
    "* Aggregation of dose fractionation movies\n",
    "* Center and peak finding in diffraction patterns\n",
    "* Hit selection\n",
    "* Export of peak data files for indexing\n",
    "* Flat-field, dead-pixel and saturation correction; optionally background subtraction\n",
    "* Broadcasting of results to single fractionation frames, and different arbitrary cumulations\n",
    "\n",
    "The central tool are `diffractem.Dataset` objects, which handle file I/O, metadata, subset selection, fast computations, and much more.\n",
    "Also, the image processing functions in `diffractem.proc2d` are essential. \n",
    "By internally using the _dask_ framework, Datasets can be larger than memory, computations are lazy (i.e., executed only just when needed) and done in parallel, mostly scaling directly with the number of available cores."
   ]
  },
  {
   "cell_type": "markdown",
   "metadata": {},
   "source": [
    "## Initialize _dask.distributed_ cluster\n",
    "This initializes the computation backend. If there is no dask.distributed scheduler running at the specified port (usually 8786), a new one will be created. Make sure that the number of workers and threads make sense. It's a good idea to set it to your workstation's CPU configuration, and explicitly set a fast scratch drive as `local_directory`. In the output of the cell you will find the link for the dashboard of the scheduler, where you can follow the computation progress (NB: if you're connecting to Jupyter through a SSH tunnel, you'll need to open an additional tunnel for the port of the dashboard)."
   ]
  },
  {
   "cell_type": "code",
   "execution_count": 3,
   "metadata": {
    "tags": []
   },
   "outputs": [
    {
     "name": "stdout",
     "output_type": "stream",
     "text": [
      "Seems no cluster scheduler is running. Starting one.\n"
     ]
    },
    {
     "data": {
      "text/html": [
       "<table style=\"border: 2px solid white;\">\n",
       "<tr>\n",
       "<td style=\"vertical-align: top; border: 0px solid white\">\n",
       "<h3 style=\"text-align: left;\">Client</h3>\n",
       "<ul style=\"text-align: left; list-style: none; margin: 0; padding: 0;\">\n",
       "  <li><b>Scheduler: </b>tcp://127.0.0.1:8786</li>\n",
       "  <li><b>Dashboard: </b><a href='http://127.0.0.1:8787/status' target='_blank'>http://127.0.0.1:8787/status</a></li>\n",
       "</ul>\n",
       "</td>\n",
       "<td style=\"vertical-align: top; border: 0px solid white\">\n",
       "<h3 style=\"text-align: left;\">Cluster</h3>\n",
       "<ul style=\"text-align: left; list-style:none; margin: 0; padding: 0;\">\n",
       "  <li><b>Workers: </b>20</li>\n",
       "  <li><b>Cores: </b>40</li>\n",
       "  <li><b>Memory: </b>540.64 GB</li>\n",
       "</ul>\n",
       "</td>\n",
       "</tr>\n",
       "</table>"
      ],
      "text/plain": [
       "<Client: 'tcp://127.0.0.1:8786' processes=20 threads=40, memory=540.64 GB>"
      ]
     },
     "execution_count": 3,
     "metadata": {},
     "output_type": "execute_result"
    }
   ],
   "source": [
    "cluster_port = 8786\n",
    "\n",
    "try:\n",
    "    client = Client(address=f'127.0.0.1:{cluster_port}', timeout='2s')\n",
    "    print('Running cluster scheduler found and connected.')\n",
    "    client.run(os.chdir, os.getcwd()); # change the cluster to the current directory\n",
    "except (OSError, TimeoutError):\n",
    "    print('Seems no cluster scheduler is running. Starting one.')\n",
    "    cluster = LocalCluster(host=f'127.0.0.1:{cluster_port}', n_workers=20, threads_per_worker=2, \n",
    "                       local_directory='/scratch/distributed')\n",
    "    client = Client(address=f'127.0.0.1:{cluster_port}')\n",
    "\n",
    "client"
   ]
  },
  {
   "cell_type": "markdown",
   "metadata": {},
   "source": [
    "## Load the raw data set\n",
    "While the files could just be loaded using a wildcard expression in `Dataset.from_files`, it's a good idea to first get an explicit file list using `io.expand_files`, which you can filter in case you find that some files are troublemakers. This list can explicitly be used as input to `Dataset.from_files`.\n",
    "\n",
    "An import aspect now is the _chunking_ of the Dataset, which defines the size of blocks of the dataset that are loaded into memory and processed separately and in parallel. If you did not use dose fractionation, a value around 20 is a good idea. If you did use dose fractionation, it should be larger, and a multiple of the number of frames per crystal. Read more about chunks in the _dask_ documentation.\n",
    "\n",
    "In this data set we had 25 frames per movie, so we pick `chunking=50`."
   ]
  },
  {
   "cell_type": "code",
   "execution_count": 4,
   "metadata": {
    "tags": []
   },
   "outputs": [
    {
     "name": "stdout",
     "output_type": "stream",
     "text": [
      "Found 34 raw files. Have fun pre-processing!\n",
      "Persisting stacks to memory: \n"
     ]
    },
    {
     "data": {
      "text/plain": [
       "diffractem Dataset object spanning 34 NeXus/HDF5 files\n",
       "-----\n",
       "55800 shots (55800 selected)\n",
       "2247 features\n",
       "1 data stacks: raw_counts\n",
       "Diffraction data stack: raw_counts\n",
       "Data files open: True\n",
       "Data files writable: False"
      ]
     },
     "execution_count": 4,
     "metadata": {},
     "output_type": "execute_result"
    }
   ],
   "source": [
    "opts.load() # re-load parameters from the .yaml file\n",
    "\n",
    "raw_files = io.expand_files('raw_data/*.nxs', validate=True)\n",
    "print(f'Found {len(raw_files)} raw files. Have fun pre-processing!')\n",
    "ds = Dataset.from_files(raw_files, chunking=50, )\n",
    "ds"
   ]
  },
  {
   "cell_type": "markdown",
   "metadata": {},
   "source": [
    "### Merge global metadata into shot list\n",
    "Here, we only merge the shutter time of each movie frame (as they varied between the regions in this set)"
   ]
  },
  {
   "cell_type": "code",
   "execution_count": 5,
   "metadata": {},
   "outputs": [],
   "source": [
    "ds.merge_meta('/%/instrument/detector/collection/shutter_time')"
   ]
  },
  {
   "cell_type": "markdown",
   "metadata": {},
   "source": [
    "## Aggregation/selection\n",
    "Now, shots that correspond to auxiliary scan points have to be rejected (or based on other criteria in the shot list), and, if dose fractionation was used, movies should be summed over some reasonable range of frames before further processing. (In the final steps, we can work on the separate frames again.)\n",
    "\n",
    "Now is a good time to have a first look at the (aggregated) dataset using `tools.viewing_widget`. Note that no data is written to disk yet, all operations are done lazily, i.e. just computed in real time when you need it."
   ]
  },
  {
   "cell_type": "code",
   "execution_count": 6,
   "metadata": {
    "tags": []
   },
   "outputs": [
    {
     "name": "stdout",
     "output_type": "stream",
     "text": [
      "Monotonous aggregation: True \n",
      "File/subset remixing: False\n",
      "Frame aggregation: True\n",
      "Acq. run aggregation: False\n",
      "Discarding shot table columns: ['Event', 'frame', 'shot_in_subset']\n",
      "Persisting stacks to memory: \n",
      "Have 2146 shots for processing.\n"
     ]
    }
   ],
   "source": [
    "ds_agg = ds.aggregate(query='frame >= 1 and frame <= 4 and shutter_time == 2', \n",
    "                      by=['sample', 'region', 'run', 'crystal_id'], how='sum', new_folder='proc_data')\n",
    "print(f'Have {len(ds_agg.shots)} shots for processing.')"
   ]
  },
  {
   "cell_type": "markdown",
   "metadata": {},
   "source": [
    "#### Have a first look\n",
    "Fire up the viewing widget, with some reasonable default parameters.\n",
    "Log is helpful for unprocessed sets."
   ]
  },
  {
   "cell_type": "code",
   "execution_count": 6,
   "metadata": {},
   "outputs": [
    {
     "name": "stderr",
     "output_type": "stream",
     "text": [
      "/opts/dev/diffractem/diffractem/dataset.py:2075: RuntimeWarning: divide by zero encountered in log10\n",
      "  ih.set_data(np.log10(img_stack[shot,...].compute(scheduler='single-threaded')))\n"
     ]
    },
    {
     "data": {
      "application/vnd.jupyter.widget-view+json": {
       "model_id": "33781a4258724699b44d24d2c70e627f",
       "version_major": 2,
       "version_minor": 0
      },
      "text/plain": [
       "VBox(children=(HBox(children=(VBox(children=(Textarea(value='sample: Lyso190304\\nregion: 3\\nrun: 0\\ncrystal_id…"
      ]
     },
     "metadata": {},
     "output_type": "display_data"
    }
   ],
   "source": [
    "%matplotlib widget\n",
    "ds_agg.view(Imax=4000, log=True)"
   ]
  },
  {
   "cell_type": "markdown",
   "metadata": {},
   "source": [
    "## Optimize the peak & center finding pipeline\n",
    "`get_pattern_info` analyzes diffraction patterns (with whatever steps you like - define them in `preproc.yaml`) and returns the results as a pandas DataFrame and a dictionary containing found peak positions in CXI formats. For now, it finds the center of mass (COM), fits a Lorentz function to the central region, finds the peaks, and refines the center position using Friedel mate matching.\n",
    "\n",
    "Here, you can test this pipeline on a small subset of your dataset and check if the peak and center finding work reliably. If not then modify your `preproc.yaml` file parameters, especially those for peak finding under `peak_search_params`.\n",
    "Keep in mind that a too large number of false positive peaks will confuse the indexer horribly.\n",
    "\n",
    "For displaying, consider the `log` checkbox and set `Imax` to something high, so you can properly see if the center is well matched.\n",
    "Then browse a bit through the shots and check the quality of the image annotations."
   ]
  },
  {
   "cell_type": "code",
   "execution_count": 38,
   "metadata": {},
   "outputs": [],
   "source": [
    "ds_sample = ds_agg.get_random_subset(N=30, seed=1000)\n",
    "ds_sample.compute_pattern_info('preproc.yaml', client=client, output_file=None)\n",
    "ds_sample.view(Imax=4000, log=True)"
   ]
  },
  {
   "cell_type": "markdown",
   "metadata": {},
   "source": [
    "## Run center & peak finding on full data set\n",
    "Now that you've found the optimal parameters, the same thing is run on the entire data set. We also store a file `image_info.h5`, which is a valid diffractem-type (NeXus) HDF5 file, which contains the metadata and peak/pattern center positions, but no image data. It is useful as a backup or to make export files for indexers. \n",
    "\n",
    "In the second cell, the results are weaved into our data set object. Optionally, you can instead load the data from an existing `image_info.h5` (or similar) file.\n",
    "\n",
    "Note also, that from this point on you can start using `process_peaks.ipynb` to optimize your geometry and unit cell."
   ]
  },
  {
   "cell_type": "code",
   "execution_count": 9,
   "metadata": {},
   "outputs": [
    {
     "name": "stdout",
     "output_type": "stream",
     "text": [
      "Starting computation... view detailed dashboard at http://127.0.0.1:8787/status\n",
      "Wrote analysis results to file image_info.h5 100% Completed | 31.6s\n"
     ]
    }
   ],
   "source": [
    "ds_agg.compute_pattern_info(opts='preproc.yaml', client=client)"
   ]
  },
  {
   "cell_type": "code",
   "execution_count": 32,
   "metadata": {},
   "outputs": [
    {
     "name": "stdout",
     "output_type": "stream",
     "text": [
      "Single-file dataset, disabling parallel I/O.\n",
      "No feature list in data set ('/%/map/features not found in image_info.h5.'). That's ok if it's a virtual or info file.\n",
      "Persisting stacks to memory: nPeaks, peakTotalIntensity, peakXPosRaw, peakYPosRaw\n",
      "Persisting stacks to memory: nPeaks, peakXPosRaw, peakYPosRaw, peakTotalIntensity\n"
     ]
    }
   ],
   "source": [
    "ds_agg.merge_pattern_info(ds_from='image_info.h5')"
   ]
  },
  {
   "cell_type": "markdown",
   "metadata": {},
   "source": [
    "## Hit selection\n",
    "define a criterion to select hits, accordsing to the `selection` query string, then show random sample images to get an idea if it made sense. It often makes sense to not only look at the total `num_peaks`, but also `num_lores_peaks` and `frac_lores_peaks`. The resolution limit for what is considered lores is defined as `lores_limit` in inverse nanometres.\n",
    "\n",
    "Afterwards, you can look (again) at your hit-selected data set `ds_hit` to see if it contains hits only."
   ]
  },
  {
   "cell_type": "code",
   "execution_count": 11,
   "metadata": {},
   "outputs": [
    {
     "name": "stdout",
     "output_type": "stream",
     "text": [
      "1322 shots out of 2146 selected.\n",
      "Persisting stacks to memory: nPeaks, peakTotalIntensity, peakXPosRaw, peakYPosRaw\n"
     ]
    },
    {
     "data": {
      "application/vnd.jupyter.widget-view+json": {
       "model_id": "7ef25b803a9c441390a8364da46d1491",
       "version_major": 2,
       "version_minor": 0
      },
      "text/plain": [
       "VBox(children=(HBox(children=(VBox(children=(Textarea(value='sample: Lyso190304\\nregion: 3\\nrun: 0\\ncrystal_id…"
      ]
     },
     "metadata": {},
     "output_type": "display_data"
    }
   ],
   "source": [
    "plt.close('all')\n",
    "selection = 'num_peaks > 15'\n",
    "\n",
    "ds_agg.shots['hit'] = ds_agg.shots.eval(selection)\n",
    "ds_hit = ds_agg.get_selection('hit', file_suffix='_hit.h5')\n",
    "\n",
    "ds_hit.view(Imax=50)"
   ]
  },
  {
   "cell_type": "markdown",
   "metadata": {},
   "source": [
    "## Creation of actual processed images\n",
    "...using the `proc2d.correct_image` function, which applies corrections as defined in the `YAML` file. The stack with corrected images (dask arrays, so they are not actually computed yet!) is added to the dataset.\n",
    "\n",
    "Then, you can use the viewing widget to assess if the correction matches your expectations. If not, change the options file, and re-iterate until you're happy. (NB: The update of the widget might take slightly longer than before, as the correction is done in real time.)\n",
    "\n",
    "Finally, run the `compute_and_save` method, which actually computes all corrected patterns and writes them to disk. Note that using the `exclude_stacks='raw_counts'` will prevent the raw data from being written into the new files. This function might take quite a while. Please follow the progress on the dask dashboard. Note that if you follow the standard workflow, this will be the first time that diffraction data is actually _written_ to disk (besides the virtual one for indexing)."
   ]
  },
  {
   "cell_type": "code",
   "execution_count": 14,
   "metadata": {},
   "outputs": [
    {
     "data": {
      "application/vnd.jupyter.widget-view+json": {
       "model_id": "dfda100c8e6c4df79a86d6ff69882e5e",
       "version_major": 2,
       "version_minor": 0
      },
      "text/plain": [
       "VBox(children=(HBox(children=(VBox(children=(Textarea(value='sample: Lyso190304\\nregion: 24\\nrun: 0\\ncrystal_i…"
      ]
     },
     "metadata": {},
     "output_type": "display_data"
    }
   ],
   "source": [
    "ds_compute.view(shot=402)"
   ]
  },
  {
   "cell_type": "code",
   "execution_count": 15,
   "metadata": {},
   "outputs": [
    {
     "name": "stdout",
     "output_type": "stream",
     "text": [
      "Initializing data files...\n",
      "Storing meta tables...\n"
     ]
    },
    {
     "name": "stderr",
     "output_type": "stream",
     "text": [
      "/opts/dev/diffractem/diffractem/dataset.py:1200: UserWarning: Non-matching primary diffraction stack labels: corrected vs raw_counts\n",
      "  warn(f'Non-matching primary diffraction stack labels: '\n"
     ]
    },
    {
     "name": "stdout",
     "output_type": "stream",
     "text": [
      "Storing meta stacks nPeaks, peakTotalIntensity, peakXPosRaw, peakYPosRaw\n",
      "[########################################] | 100% Completed |  7.8s\n",
      "Storing diffraction data stack corrected... monitor progress at http://127.0.0.1:8787/status (or forward port if remote)\n",
      "Initializing data sets for diffraction stack corrected...\n",
      "Submitting tasks to dask.distributed scheduler...\n",
      "Starting computation...\n"
     ]
    }
   ],
   "source": [
    "# run the computation. Depending on your computer and data set size, have a coffee or go to bed now.\n",
    "ds_compute.compute_and_save(diff_stack_label='corrected', list_file='hits_agg.lst', exclude_stacks='raw_counts',\n",
    "                            client=client, overwrite=True)"
   ]
  },
  {
   "cell_type": "markdown",
   "metadata": {},
   "source": [
    "## Next steps\n",
    "Now, you have a set of processed diffraction data files as listed in `hits_agg.lst`, derived from summing (aggregating) over a large range of dose fractionation frames.\n",
    "Those files also contain the found peaks and beam centers which you will require during cell refinement, indexing and integration in `proc_peaks.ipynb` and `indexing.ipynb`; independently those metadata are also written into `image_info.h5`.\n",
    "In `dose_fractionation.ipynb`, it is shown how to prepare similar data files with different frame aggregation ranges, in order to optimize your data for minimum radiation damage."
   ]
  }
 ],
 "metadata": {
  "kernelspec": {
   "display_name": "Python [conda env:send]",
   "language": "python",
   "name": "conda-env-send-py"
  },
  "language_info": {
   "codemirror_mode": {
    "name": "ipython",
    "version": 3
   },
   "file_extension": ".py",
   "mimetype": "text/x-python",
   "name": "python",
   "nbconvert_exporter": "python",
   "pygments_lexer": "ipython3",
   "version": "3.7.8"
  },
  "widgets": {
   "application/vnd.jupyter.widget-state+json": {
    "state": {},
    "version_major": 2,
    "version_minor": 0
   }
  }
 },
 "nbformat": 4,
 "nbformat_minor": 4
}
