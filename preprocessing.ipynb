{
 "cells": [
  {
   "cell_type": "code",
   "execution_count": null,
   "metadata": {
    "pycharm": {
     "is_executing": false
    }
   },
   "outputs": [],
   "source": [
    "# for developers\n",
    "%load_ext autoreload\n",
    "%autoreload 2"
   ]
  },
  {
   "cell_type": "code",
   "execution_count": null,
   "metadata": {
    "pycharm": {
     "is_executing": false
    },
    "tags": []
   },
   "outputs": [],
   "source": [
    "import hdf5plugin # required to access LZ4-encoded HDF5 data sets, if not on your global path\n",
    "import matplotlib.pyplot as plt\n",
    "from diffractem import version, proc2d, pre_proc_opts, io\n",
    "from diffractem.dataset import Dataset\n",
    "from tifffile import imread\n",
    "import numpy as np\n",
    "from dask.distributed import Client, LocalCluster, TimeoutError\n",
    "import os\n",
    "import pandas as pd\n",
    "# %matplotlib widget\n",
    "\n",
    "opts = pre_proc_opts.PreProcOpts('preproc.yaml')\n",
    "# opts.im_exc = 'indexamajig'\n",
    "cfver = !{opts.im_exc} -v\n",
    "print(f'Running on diffractem:', version())\n",
    "print(f'Running on', cfver[0])\n",
    "print(f'Current path is:', os.getcwd())\n",
    "\n",
    "pxmask=imread(opts.pxmask)\n",
    "reference=imread(opts.reference)"
   ]
  },
  {
   "cell_type": "markdown",
   "metadata": {},
   "source": [
    "# Pre-processing of SerialED data\n",
    "...from raw diffraction data in _NeXus_ format files to cleaned, sorted, selected, and corrected diffraction data, and accurate information about peak and pattern center positions for further steps. This comprises:\n",
    "* Aggregation of dose fractionation movies\n",
    "* Center and peak finding in diffraction patterns\n",
    "* Hit selection\n",
    "* Export of peak data files for indexing\n",
    "* Flat-field, dead-pixel and saturation correction; optionally background subtraction\n",
    "* Broadcasting of results to single fractionation frames, and different arbitrary cumulations\n",
    "\n",
    "The central tool are `diffractem.Dataset` objects, which handle file I/O, metadata, subset selection, fast computations, and much more.\n",
    "Also, the image processing functions in `diffractem.proc2d` are essential. \n",
    "By internally using the _dask_ framework, Datasets can be larger than memory, computations are lazy (i.e., executed only just when needed) and done in parallel, mostly scaling directly with the number of available cores."
   ]
  },
  {
   "cell_type": "markdown",
   "metadata": {},
   "source": [
    "## Initialize _dask.distributed_ cluster\n",
    "This initializes the computation backend. If there is no dask.distributed scheduler running at the specified port (usually 8786), a new one will be created. Make sure that the number of workers and threads make sense. It's a good idea to set it to your workstation's CPU configuration, and explicitly set a fast scratch drive as `local_directory`. In the output of the cell you will find the link for the dashboard of the scheduler, where you can follow the computation progress (NB: if you're connecting to Jupyter through a SSH tunnel, you'll need to open an additional tunnel for the port of the dashboard)."
   ]
  },
  {
   "cell_type": "code",
   "execution_count": null,
   "metadata": {
    "tags": []
   },
   "outputs": [],
   "source": [
    "cluster_port = None\n",
    "\n",
    "if cluster_port is not None:\n",
    "    client = Client(address=f'127.0.0.1:{cluster_port}', timeout='2s')\n",
    "    print('Running cluster scheduler found and connected.')\n",
    "    client.run(os.chdir, os.getcwd()); # change the cluster to the current directory\n",
    "    \n",
    "else:\n",
    "    print('Seems no cluster scheduler is running. Starting one.')\n",
    "    cluster = LocalCluster(host=None, \n",
    "                           n_workers=8, threads_per_worker=2, \n",
    "                       local_directory='/scratch/distributed')\n",
    "    client = Client(address=cluster)"
   ]
  },
  {
   "cell_type": "markdown",
   "metadata": {},
   "source": [
    "## Load the raw data set\n",
    "While the files could just be loaded using a wildcard expression in `Dataset.from_files`, it's a good idea to first get an explicit file list using `io.expand_files`, which you can filter in case you find that some files are troublemakers. This list can explicitly be used as input to `Dataset.from_files`.\n",
    "\n",
    "An import aspect now is the _chunking_ of the Dataset, which defines the size of blocks of the dataset that are loaded into memory and processed separately and in parallel. If you did not use dose fractionation, a value around 20 is a good idea. If you did use dose fractionation, it should be larger, and a multiple of the number of frames per crystal. Read more about chunks in the _dask_ documentation.\n",
    "\n",
    "In this data set we had 25 frames per movie, so we pick `chunking=50`."
   ]
  },
  {
   "cell_type": "code",
   "execution_count": null,
   "metadata": {
    "tags": []
   },
   "outputs": [],
   "source": [
    "opts.load() # re-load parameters from the .yaml file\n",
    "\n",
    "raw_files = io.expand_files('raw_data/*.nxs', validate=True)\n",
    "print(f'Found {len(raw_files)} raw files. Have fun pre-processing!')\n",
    "ds = Dataset.from_files(raw_files, chunking=50, )\n",
    "ds"
   ]
  },
  {
   "cell_type": "markdown",
   "metadata": {},
   "source": [
    "### Merge global metadata into shot list\n",
    "Here, we only merge the shutter time of each movie frame (as they varied between the regions in this set)"
   ]
  },
  {
   "cell_type": "code",
   "execution_count": null,
   "metadata": {},
   "outputs": [],
   "source": [
    "ds.merge_meta('/%/instrument/detector/collection/shutter_time')"
   ]
  },
  {
   "cell_type": "markdown",
   "metadata": {},
   "source": [
    "## Aggregation/selection\n",
    "Now, shots that correspond to auxiliary scan points have to be rejected (or based on other criteria in the shot list), and, if dose fractionation was used, movies should be summed over some reasonable range of frames before further processing. (In the final steps, we can work on the separate frames again.)\n",
    "\n",
    "Now is a good time to have a first look at the (aggregated) dataset using `tools.viewing_widget`. Note that no data is written to disk yet, all operations are done lazily, i.e. just computed in real time when you need it."
   ]
  },
  {
   "cell_type": "code",
   "execution_count": null,
   "metadata": {
    "tags": []
   },
   "outputs": [],
   "source": [
    "ds_agg = ds.aggregate(query='frame >= 1 and frame <= 4 and shutter_time == 2', \n",
    "                      by=['sample', 'region', 'run', 'crystal_id'], how='sum', new_folder='proc_data')\n",
    "print(f'Have {len(ds_agg.shots)} shots for processing.')"
   ]
  },
  {
   "cell_type": "markdown",
   "metadata": {},
   "source": [
    "#### Have a first look\n",
    "Fire up the viewing widget, with some reasonable default parameters.\n",
    "Log is helpful for unprocessed sets."
   ]
  },
  {
   "cell_type": "code",
   "execution_count": null,
   "metadata": {},
   "outputs": [],
   "source": [
    "%matplotlib widget\n",
    "ds_agg.view(Imax=4000, log=True)"
   ]
  },
  {
   "cell_type": "markdown",
   "metadata": {},
   "source": [
    "## Optimize the peak & center finding pipeline\n",
    "`get_pattern_info` analyzes diffraction patterns (with whatever steps you like - define them in `preproc.yaml`) and returns the results as a pandas DataFrame and a dictionary containing found peak positions in CXI formats. For now, it finds the center of mass (COM), fits a Lorentz function to the central region, finds the peaks, and refines the center position using Friedel mate matching.\n",
    "\n",
    "Here, you can test this pipeline on a small subset of your dataset and check if the peak and center finding work reliably. If not then modify your `preproc.yaml` file parameters, especially those for peak finding under `peak_search_params`.\n",
    "Keep in mind that a too large number of false positive peaks will confuse the indexer horribly.\n",
    "\n",
    "For displaying, consider the `log` checkbox and set `Imax` to something high, so you can properly see if the center is well matched.\n",
    "Then browse a bit through the shots and check the quality of the image annotations."
   ]
  },
  {
   "cell_type": "code",
   "execution_count": null,
   "metadata": {},
   "outputs": [],
   "source": [
    "ds_sample = ds_agg.get_random_subset(N=30, seed=1000)\n",
    "ds_sample.compute_pattern_info('preproc.yaml', client=client, output_file=None)\n",
    "ds_sample.view(Imax=4000, log=True)"
   ]
  },
  {
   "cell_type": "markdown",
   "metadata": {},
   "source": [
    "## Run center & peak finding on full data set\n",
    "Now that you've found the optimal parameters, the same thing is run on the entire data set. We also store a file `image_info.h5`, which is a valid diffractem-type (NeXus) HDF5 file, which contains the metadata and peak/pattern center positions, but no image data. It is useful as a backup or to make export files for indexers. \n",
    "\n",
    "**Alternatively**, you can load and merge the pattern info from an already-exisiting `image_info.h5` (see second cell).\n",
    "\n",
    "Note also, that from this point on you can start using `process_peaks.ipynb` to optimize your geometry and unit cell, or even run the indexing in `indexing.ipynb`."
   ]
  },
  {
   "cell_type": "code",
   "execution_count": null,
   "metadata": {},
   "outputs": [],
   "source": [
    "# COMPUTE the pattern info... will be merged and stored on disk\n",
    "ds_agg.compute_pattern_info(opts='preproc.yaml', client=client)"
   ]
  },
  {
   "cell_type": "code",
   "execution_count": null,
   "metadata": {},
   "outputs": [],
   "source": [
    "# RE-LOAD AND MERGE the pattern info\n",
    "ds_agg.merge_pattern_info(ds_from='image_info.h5')"
   ]
  },
  {
   "cell_type": "markdown",
   "metadata": {},
   "source": [
    "## Hit selection\n",
    "define a criterion to select hits, accordsing to the `selection` query string, then show random sample images to get an idea if it made sense. \n",
    "\n",
    "Specifically for proteins, it often makes sense to not only look at the total `num_peaks`, but also define a new column `num_lores_peaks` by calculating the number of peaks at low resolution.\n",
    "This needs to be done manually.\n",
    "\n",
    "Afterwards, you can look (again) at your hit-selected data set `ds_hit` to see if it contains hits only."
   ]
  },
  {
   "cell_type": "code",
   "execution_count": null,
   "metadata": {},
   "outputs": [],
   "source": [
    "selection = 'num_peaks > 15'\n",
    "\n",
    "# this block is optional... a bit of manual mangling required\n",
    "lores_limit = 3 # in Angstroms\n",
    "pk_D = opts.wavelength/(opts.pixel_size/opts.cam_length)/\\\n",
    "(((ds_agg.peakXPosRaw - ds_agg.shots.center_x.values.reshape(-1,1))**2\n",
    "+(ds_agg.peakYPosRaw - ds_agg.shots.center_y.values.reshape(-1,1))**2)**.5).compute()\n",
    "ds_agg.shots['num_lores_peaks'] = (pk_D > lores_limit).sum(axis=1)\n",
    "selection += ' and num_lores_peaks > 10'\n",
    "\n",
    "ds_hit = ds_agg.get_selection(selection, file_suffix='_hit.h5')\n",
    "plt.close('all')\n",
    "ds_hit.view(Imax=50)"
   ]
  },
  {
   "cell_type": "markdown",
   "metadata": {},
   "source": [
    "## Creation of actual processed images\n",
    "...using the `proc2d.correct_image` function, which applies corrections as defined in the `YAML` file. The stack with corrected images (dask arrays, so they are not actually computed yet!) is added to the dataset.\n",
    "\n",
    "Then, you can use the viewing widget to assess if the correction matches your expectations. If not, change the options file, and re-iterate until you're happy. (NB: The update of the widget might take slightly longer than before, as the correction is done in real time.)\n",
    "\n",
    "Finally, run the `compute_and_save` method, which actually computes all corrected patterns and writes them to disk. Note that using the `exclude_stacks='raw_counts'` will prevent the raw data from being written into the new files. This function might take quite a while. Please follow the progress on the dask dashboard. Note that if you follow the standard workflow, this will be the first time that diffraction data is actually _written_ to disk (besides the virtual one for indexing)."
   ]
  },
  {
   "cell_type": "code",
   "execution_count": null,
   "metadata": {},
   "outputs": [],
   "source": [
    "opts.load()\n",
    "ds_compute = ds_hit # extra step just in case you want to work on a different set\n",
    "img_final = proc2d.correct_image(ds_compute.raw_counts, opts,\n",
    "                                ds_compute.shots.lor_x.values,\n",
    "                                ds_compute.shots.lor_y.values,\n",
    "                                ds_compute.peak_data) # keep in mind, that this a lazy computation, so nothing is actually done yet\n",
    "\n",
    "ds_compute.add_stack('corrected', img_final, overwrite=True, set_diff_stack=True)"
   ]
  },
  {
   "cell_type": "code",
   "execution_count": null,
   "metadata": {},
   "outputs": [],
   "source": [
    "ds_compute.view(shot=402)"
   ]
  },
  {
   "cell_type": "code",
   "execution_count": null,
   "metadata": {},
   "outputs": [],
   "source": [
    "# run the computation. Depending on your computer and data set size, have a coffee or go to bed now.\n",
    "ds_compute.close_files() # just for safety\n",
    "ds_compute.compute_and_save(diff_stack_label='corrected', list_file='hits_agg.lst', exclude_stacks='raw_counts',\n",
    "                            client=client, overwrite=True)\n",
    "\n",
    "ds_compute.close_files()"
   ]
  },
  {
   "cell_type": "markdown",
   "metadata": {},
   "source": [
    "## Next steps\n",
    "Now, you have a set of processed diffraction data files as listed in `hits_agg.lst`, derived from summing (aggregating) over a large range of dose fractionation frames.\n",
    "Those files also contain the found peaks and beam centers which you will require during cell refinement, indexing and integration in `proc_peaks.ipynb` and `indexing.ipynb`; independently those metadata are also written into `image_info.h5`.\n",
    "In `dose_fractionation.ipynb`, it is shown how to prepare similar data files with different frame aggregation ranges, in order to optimize your data for minimum radiation damage."
   ]
  }
 ],
 "metadata": {
  "kernelspec": {
   "display_name": "diffractem",
   "language": "python",
   "name": "diffractem"
  },
  "language_info": {
   "codemirror_mode": {
    "name": "ipython",
    "version": 3
   },
   "file_extension": ".py",
   "mimetype": "text/x-python",
   "name": "python",
   "nbconvert_exporter": "python",
   "pygments_lexer": "ipython3",
   "version": "3.8.12"
  },
  "widgets": {
   "application/vnd.jupyter.widget-state+json": {
    "state": {
     "007e1952a47e4a169423e5560dee65a0": {
      "model_module": "@jupyter-widgets/base",
      "model_module_version": "1.2.0",
      "model_name": "LayoutModel",
      "state": {}
     },
     "01d4b2b01e7c425684a502a97d2c381c": {
      "model_module": "@jupyter-widgets/controls",
      "model_module_version": "1.5.0",
      "model_name": "FloatTextModel",
      "state": {
       "description": "Imax",
       "layout": "IPY_MODEL_aa0ab9fa62864daaa3e21e2af647a793",
       "step": null,
       "style": "IPY_MODEL_7cf45a7bf7fc4dcb9076c0e1ef102e1f",
       "value": 4000
      }
     },
     "033d8a55c66e46b0bf86999532e80245": {
      "model_module": "@jupyter-widgets/base",
      "model_module_version": "1.2.0",
      "model_name": "LayoutModel",
      "state": {}
     },
     "03db22939b7a439e8e9a9a2f4737c431": {
      "model_module": "@jupyter-widgets/controls",
      "model_module_version": "1.5.0",
      "model_name": "DescriptionStyleModel",
      "state": {
       "description_width": ""
      }
     },
     "044274cb470e4377b9e6d498331a59b5": {
      "model_module": "@jupyter-widgets/output",
      "model_module_version": "1.0.0",
      "model_name": "OutputModel",
      "state": {
       "layout": "IPY_MODEL_5d68178dc9f441eebb3eb4d396be5f80",
       "outputs": [
        {
         "data": {
          "application/vnd.jupyter.widget-view+json": {
           "model_id": "5e7a7cecd7e64f97bbf5bda82f0fbadd",
           "version_major": 2,
           "version_minor": 0
          },
          "text/plain": "Canvas(toolbar=Toolbar(toolitems=[('Home', 'Reset original view', 'home', 'home'), ('Back', 'Back to previous …"
         },
         "metadata": {},
         "output_type": "display_data"
        }
       ]
      }
     },
     "04e6673278204b999c13ec81e4b5f497": {
      "model_module": "@jupyter-widgets/base",
      "model_module_version": "1.2.0",
      "model_name": "LayoutModel",
      "state": {}
     },
     "05646aed7eed432e9f5e5e1d900bc0b8": {
      "model_module": "@jupyter-widgets/controls",
      "model_module_version": "1.5.0",
      "model_name": "VBoxModel",
      "state": {
       "children": [
        "IPY_MODEL_7ed5ae67ba614ca2bdfc1e9cb22fd554",
        "IPY_MODEL_55f1af4dcab647d0872dcc162e1cd4bb"
       ],
       "layout": "IPY_MODEL_033d8a55c66e46b0bf86999532e80245"
      }
     },
     "090a23afb405494a97a7839bb763d21f": {
      "model_module": "@jupyter-widgets/base",
      "model_module_version": "1.2.0",
      "model_name": "LayoutModel",
      "state": {}
     },
     "0bad790e8f7c419c8f4fcd17849de65c": {
      "model_module": "@jupyter-widgets/output",
      "model_module_version": "1.0.0",
      "model_name": "OutputModel",
      "state": {
       "layout": "IPY_MODEL_921121f055a74445aa6d6d0e716cccbf"
      }
     },
     "0cc2158b434b416bb77fe3ed9a2829f5": {
      "model_module": "@jupyter-widgets/base",
      "model_module_version": "1.2.0",
      "model_name": "LayoutModel",
      "state": {}
     },
     "11d22a607dfd48b88ca5aa87db77c878": {
      "model_module": "@jupyter-widgets/base",
      "model_module_version": "1.2.0",
      "model_name": "LayoutModel",
      "state": {}
     },
     "12a0fb2729744fa8a1e3fe6b90efbfd0": {
      "model_module": "@jupyter-widgets/controls",
      "model_module_version": "1.5.0",
      "model_name": "DescriptionStyleModel",
      "state": {
       "description_width": ""
      }
     },
     "161d772e8a204233a03d24a13d3d4cbb": {
      "model_module": "@jupyter-widgets/controls",
      "model_module_version": "1.5.0",
      "model_name": "ToggleButtonModel",
      "state": {
       "description": "selected",
       "layout": "IPY_MODEL_0cc2158b434b416bb77fe3ed9a2829f5",
       "style": "IPY_MODEL_1afc6cd20af945f3a8580fa10e585958",
       "value": true
      }
     },
     "164ff4bc713a452188d1e429d31ea3ac": {
      "model_module": "@jupyter-widgets/controls",
      "model_module_version": "1.5.0",
      "model_name": "DescriptionStyleModel",
      "state": {
       "description_width": ""
      }
     },
     "175321d994554f84a3769969f1321dff": {
      "model_module": "@jupyter-widgets/controls",
      "model_module_version": "1.5.0",
      "model_name": "DescriptionStyleModel",
      "state": {
       "description_width": ""
      }
     },
     "17fbacfdb4194a07824c2a5ec3c9c676": {
      "model_module": "@jupyter-widgets/base",
      "model_module_version": "1.2.0",
      "model_name": "LayoutModel",
      "state": {}
     },
     "1aa156ca09694ae9a437e1d3baac5729": {
      "model_module": "@jupyter-widgets/base",
      "model_module_version": "1.2.0",
      "model_name": "LayoutModel",
      "state": {}
     },
     "1afc6cd20af945f3a8580fa10e585958": {
      "model_module": "@jupyter-widgets/controls",
      "model_module_version": "1.5.0",
      "model_name": "DescriptionStyleModel",
      "state": {
       "description_width": ""
      }
     },
     "1b114700b20a419cb75e5f502e47f3f3": {
      "model_module": "@jupyter-widgets/controls",
      "model_module_version": "1.5.0",
      "model_name": "VBoxModel",
      "state": {
       "children": [
        "IPY_MODEL_33406cfc0ee44000b88f0fbea23584dd",
        "IPY_MODEL_c3c81741975948cab210e6e559786291"
       ],
       "layout": "IPY_MODEL_71d34084a73b40068103d44266565d23"
      }
     },
     "1b94f7f4abce4bf5ab75f2390075a90e": {
      "model_module": "@jupyter-widgets/base",
      "model_module_version": "1.2.0",
      "model_name": "LayoutModel",
      "state": {}
     },
     "1bf68555ba604a60bae18d9eb0227b31": {
      "model_module": "@jupyter-widgets/base",
      "model_module_version": "1.2.0",
      "model_name": "LayoutModel",
      "state": {}
     },
     "1ce29500acc449739e4ca0e64f383f96": {
      "model_module": "@jupyter-widgets/base",
      "model_module_version": "1.2.0",
      "model_name": "LayoutModel",
      "state": {
       "height": "100%"
      }
     },
     "1e98c17fbea54476ad698567cebbfb37": {
      "model_module": "@jupyter-widgets/base",
      "model_module_version": "1.2.0",
      "model_name": "LayoutModel",
      "state": {}
     },
     "217fb276bc064c01b4cc306ae5172ca6": {
      "model_module": "@jupyter-widgets/controls",
      "model_module_version": "1.5.0",
      "model_name": "DescriptionStyleModel",
      "state": {
       "description_width": ""
      }
     },
     "22f4f03f489142738c0658435e03ad19": {
      "model_module": "@jupyter-widgets/controls",
      "model_module_version": "1.5.0",
      "model_name": "HBoxModel",
      "state": {
       "children": [
        "IPY_MODEL_cdfb6e2e8d6242c08662f6127ff40e87",
        "IPY_MODEL_78402989127b4b7aa179d08bd1b0bc40"
       ],
       "layout": "IPY_MODEL_791f41a77c15404ea738714dfae8955c"
      }
     },
     "2654fea4cc154673a2a832cf306af343": {
      "model_module": "@jupyter-widgets/controls",
      "model_module_version": "1.5.0",
      "model_name": "HBoxModel",
      "state": {
       "children": [
        "IPY_MODEL_4ba52b1aa15547b89a14d31c4267fc54",
        "IPY_MODEL_a4731bdd6ad344698780f03c84502f12",
        "IPY_MODEL_01d4b2b01e7c425684a502a97d2c381c",
        "IPY_MODEL_ecf8a8c10f1841d5808acbabdbc565b5"
       ],
       "layout": "IPY_MODEL_db0c08c39cda47cbabb880dd7490c816"
      }
     },
     "2d93faf263bc46d3a16935b37001e016": {
      "model_module": "@jupyter-widgets/base",
      "model_module_version": "1.2.0",
      "model_name": "LayoutModel",
      "state": {}
     },
     "2e4670827ec1455ba66bbca118228873": {
      "model_module": "@jupyter-widgets/controls",
      "model_module_version": "1.5.0",
      "model_name": "DescriptionStyleModel",
      "state": {
       "description_width": ""
      }
     },
     "31a785b32d124b1499594081999bc606": {
      "model_module": "@jupyter-widgets/base",
      "model_module_version": "1.2.0",
      "model_name": "LayoutModel",
      "state": {}
     },
     "33406cfc0ee44000b88f0fbea23584dd": {
      "model_module": "@jupyter-widgets/controls",
      "model_module_version": "1.5.0",
      "model_name": "TextareaModel",
      "state": {
       "layout": "IPY_MODEL_4eef29c740d74177accb0ee906880afb",
       "style": "IPY_MODEL_44ce09f7f3ca46e3bea792b9dd9dfc1f",
       "value": "sample: Lyso190304\nregion: 8\nrun: 0\ncrystal_id: 30\ncrystal_x: 442.2857142857143\ncrystal_y: 869.9642857142857\npos_x: 425.68571428571425\npos_y: 872.6642857142857\nselected: True\nsubset: entry\nshutter_time: 2.0\nagg_len: 4\nfile_raw: raw_data/LysoS1_008_00000.nxs\nEvent_raw: entry//751\nfile: proc_data/LysoS1_008_00000_agg_sel.h5\nEvent: entry//0\nshot_in_subset: 0\nadf1: 29.662533572049274\nadf2: 10.25071893341829\ncenter_refine_score: nan\ncenter_x: 742.2720047508788\ncenter_y: 232.53974713300428\ncom_x: 742.1924649617538\ncom_y: 232.98463208607433\ndet_shift_x_mm: 1.962816528493495\ndet_shift_y_mm: 1.363086905371115\nlor_hwhm: 9.26862277531331\nlor_pk: 1654.7840035862848\nlor_x: 742.2720047508788\nlor_y: 232.53974713300428\nnum_peaks: 0"
      }
     },
     "343548110d694a88ab2a6d6577d89e2d": {
      "model_module": "@jupyter-widgets/controls",
      "model_module_version": "1.5.0",
      "model_name": "TextareaModel",
      "state": {
       "layout": "IPY_MODEL_39115900487446e4b8348fb2ee63b31d",
       "style": "IPY_MODEL_2e4670827ec1455ba66bbca118228873",
       "value": "sample: Lyso190304\nregion: 24\nrun: 0\ncrystal_id: 5\ncrystal_x: 507.1626016260163\ncrystal_y: 113.34959349593495\npos_x: 492.4626016260163\npos_y: 115.4156957841551\nselected: True\nsubset: entry\nshutter_time: 2.0\nagg_len: 4\nfile_raw: raw_data/LysoS2_024_00000.nxs\nEvent_raw: entry//130\nadf1: 30.84980805221324\nadf2: 11.347143847761238\ncenter_refine_score: 0.032745064996083525\ncenter_x: 737.8368455801049\ncenter_y: 280.3377587226527\ncom_x: 737.6611673788677\ncom_y: 280.8894931909378\ndet_shift_x_mm: 2.2022260324789373\ndet_shift_y_mm: -1.2363000955721577\nlor_hwhm: 9.449606730489489\nlor_pk: 1522.1689045890826\nlor_x: 737.8135337125077\nlor_y: 281.24976170487145\nnum_peaks: 99\nii_from: 751\nnum_lores_peaks: 84\nfile: proc_data/LysoS2_024_00000_agg_hit.h5\nEvent: entry//2\nshot_in_subset: 2"
      }
     },
     "346421c7e2ee4e9484a1d20a90819ec8": {
      "model_module": "@jupyter-widgets/controls",
      "model_module_version": "1.5.0",
      "model_name": "VBoxModel",
      "state": {
       "_dom_classes": [
        "widget-interact"
       ],
       "children": [
        "IPY_MODEL_3ece06004710443886e0b4e8727a2674",
        "IPY_MODEL_54492bd98cad4bd0b14ce288d3d58dc0",
        "IPY_MODEL_e36b0cf6c7d646069fa74af13b6c1b53",
        "IPY_MODEL_d27ca7b9c92a495781894f709f8aa3fe"
       ],
       "layout": "IPY_MODEL_007e1952a47e4a169423e5560dee65a0"
      }
     },
     "34c318441a764c03bd5fde4f44150d36": {
      "model_module": "@jupyter-widgets/base",
      "model_module_version": "1.2.0",
      "model_name": "LayoutModel",
      "state": {}
     },
     "38315eda0a8e45078aac46a6572e6189": {
      "model_module": "jupyter-matplotlib",
      "model_module_version": "^0.9.0",
      "model_name": "MPLCanvasModel",
      "state": {
       "_cursor": "default",
       "_figure_label": "Figure 2",
       "_height": 480,
       "_width": 640,
       "header_visible": false,
       "layout": "IPY_MODEL_76efe51f6e4d4a589542e991abbc79a1",
       "toolbar": "IPY_MODEL_9882574c66894cb38cb5c03c21944b8a",
       "toolbar_position": "bottom"
      }
     },
     "39115900487446e4b8348fb2ee63b31d": {
      "model_module": "@jupyter-widgets/base",
      "model_module_version": "1.2.0",
      "model_name": "LayoutModel",
      "state": {
       "height": "100%"
      }
     },
     "3a93cffc9e1d48458d36e774a7175f4e": {
      "model_module": "@jupyter-widgets/controls",
      "model_module_version": "1.5.0",
      "model_name": "DescriptionStyleModel",
      "state": {
       "description_width": ""
      }
     },
     "3cc867373eea465884ea5f737604bc0b": {
      "model_module": "@jupyter-widgets/base",
      "model_module_version": "1.2.0",
      "model_name": "LayoutModel",
      "state": {}
     },
     "3e8eb72eb6ef4602851cff623968ef87": {
      "model_module": "@jupyter-widgets/controls",
      "model_module_version": "1.5.0",
      "model_name": "IntSliderModel",
      "state": {
       "description": "shot",
       "layout": "IPY_MODEL_17fbacfdb4194a07824c2a5ec3c9c676",
       "max": 1308,
       "style": "IPY_MODEL_648e8511d27b471996f2d9094ffa1977"
      }
     },
     "3ece06004710443886e0b4e8727a2674": {
      "model_module": "@jupyter-widgets/controls",
      "model_module_version": "1.5.0",
      "model_name": "IntSliderModel",
      "state": {
       "description": "shot",
       "layout": "IPY_MODEL_1e98c17fbea54476ad698567cebbfb37",
       "max": 1308,
       "style": "IPY_MODEL_d141c8b8a3ac4ed09766881227169899",
       "value": 402
      }
     },
     "40eaeb51188843dfb3eee93174e71d04": {
      "model_module": "@jupyter-widgets/controls",
      "model_module_version": "1.5.0",
      "model_name": "DescriptionStyleModel",
      "state": {
       "description_width": ""
      }
     },
     "41cdcba985ff4f5890e913b0559f7b42": {
      "model_module": "@jupyter-widgets/controls",
      "model_module_version": "1.5.0",
      "model_name": "DescriptionStyleModel",
      "state": {
       "description_width": ""
      }
     },
     "440bf3dcf128434fa077ef4905e4d978": {
      "model_module": "@jupyter-widgets/base",
      "model_module_version": "1.2.0",
      "model_name": "LayoutModel",
      "state": {}
     },
     "4433fdf1c28e4c5e856909c99a32c3f1": {
      "model_module": "@jupyter-widgets/base",
      "model_module_version": "1.2.0",
      "model_name": "LayoutModel",
      "state": {}
     },
     "44492a6899cb4858a4a75ed5b24f22ab": {
      "model_module": "@jupyter-widgets/base",
      "model_module_version": "1.2.0",
      "model_name": "LayoutModel",
      "state": {}
     },
     "44ce09f7f3ca46e3bea792b9dd9dfc1f": {
      "model_module": "@jupyter-widgets/controls",
      "model_module_version": "1.5.0",
      "model_name": "DescriptionStyleModel",
      "state": {
       "description_width": ""
      }
     },
     "4722026503a8416aa302527b241dd4ca": {
      "model_module": "jupyter-matplotlib",
      "model_module_version": "^0.9.0",
      "model_name": "MPLCanvasModel",
      "state": {
       "_cursor": "default",
       "_figure_label": "Figure 1",
       "_height": 480,
       "_width": 640,
       "header_visible": false,
       "layout": "IPY_MODEL_1b94f7f4abce4bf5ab75f2390075a90e",
       "toolbar": "IPY_MODEL_edf82ed5d0cb4fac8448d1df56314e94",
       "toolbar_position": "bottom"
      }
     },
     "4a300416ccae4003ac6e066339aa0057": {
      "model_module": "@jupyter-widgets/controls",
      "model_module_version": "1.5.0",
      "model_name": "VBoxModel",
      "state": {
       "_dom_classes": [
        "widget-interact"
       ],
       "children": [
        "IPY_MODEL_3e8eb72eb6ef4602851cff623968ef87",
        "IPY_MODEL_4b870275dd3a4160ab70002008333ac8",
        "IPY_MODEL_fb7c34e2cf994dbc9b17b537676af13c",
        "IPY_MODEL_0bad790e8f7c419c8f4fcd17849de65c"
       ],
       "layout": "IPY_MODEL_a6b22c14be9d4854955f95d68107c626"
      }
     },
     "4b870275dd3a4160ab70002008333ac8": {
      "model_module": "@jupyter-widgets/controls",
      "model_module_version": "1.5.0",
      "model_name": "FloatTextModel",
      "state": {
       "description": "Imax",
       "layout": "IPY_MODEL_9aebd4ea1a8a4de99870cf3fbcd4255e",
       "step": null,
       "style": "IPY_MODEL_12a0fb2729744fa8a1e3fe6b90efbfd0",
       "value": 50
      }
     },
     "4ba52b1aa15547b89a14d31c4267fc54": {
      "model_module": "@jupyter-widgets/controls",
      "model_module_version": "1.5.0",
      "model_name": "ToggleButtonModel",
      "state": {
       "description": "selected",
       "layout": "IPY_MODEL_1aa156ca09694ae9a437e1d3baac5729",
       "style": "IPY_MODEL_f649cbec84964827a031228dfcd408d4",
       "value": true
      }
     },
     "4caef789cead443fae01997bc88b3b5d": {
      "model_module": "@jupyter-widgets/controls",
      "model_module_version": "1.5.0",
      "model_name": "VBoxModel",
      "state": {
       "children": [
        "IPY_MODEL_5d6f18dd39454a79a30449e5fd02ce2c",
        "IPY_MODEL_3e8eb72eb6ef4602851cff623968ef87"
       ],
       "layout": "IPY_MODEL_7ee6f7a0be5042a6a469daa7394a3a99"
      }
     },
     "4eef29c740d74177accb0ee906880afb": {
      "model_module": "@jupyter-widgets/base",
      "model_module_version": "1.2.0",
      "model_name": "LayoutModel",
      "state": {
       "height": "100%"
      }
     },
     "53d84015ae424cfaa7ac6dc1c4ae1671": {
      "model_module": "@jupyter-widgets/base",
      "model_module_version": "1.2.0",
      "model_name": "LayoutModel",
      "state": {}
     },
     "54492bd98cad4bd0b14ce288d3d58dc0": {
      "model_module": "@jupyter-widgets/controls",
      "model_module_version": "1.5.0",
      "model_name": "FloatTextModel",
      "state": {
       "description": "Imax",
       "layout": "IPY_MODEL_e22fdba08a7b4c8eb46edddc2a281791",
       "step": null,
       "style": "IPY_MODEL_6a285e4fe5124e1f8b9a1d16fab23f9a",
       "value": 30
      }
     },
     "55b572a95b6f4dfe80b6af3ecf00a35a": {
      "model_module": "@jupyter-widgets/base",
      "model_module_version": "1.2.0",
      "model_name": "LayoutModel",
      "state": {}
     },
     "55f1af4dcab647d0872dcc162e1cd4bb": {
      "model_module": "@jupyter-widgets/controls",
      "model_module_version": "1.5.0",
      "model_name": "HBoxModel",
      "state": {
       "children": [
        "IPY_MODEL_c75d0216450a4f00be3ba3da458cf597",
        "IPY_MODEL_8369cf2a25a34ebd9e73c2d415c5f074",
        "IPY_MODEL_4b870275dd3a4160ab70002008333ac8",
        "IPY_MODEL_fb7c34e2cf994dbc9b17b537676af13c"
       ],
       "layout": "IPY_MODEL_1bf68555ba604a60bae18d9eb0227b31"
      }
     },
     "563cce3fe2c74b088de345ba4fe34f6c": {
      "model_module": "@jupyter-widgets/base",
      "model_module_version": "1.2.0",
      "model_name": "LayoutModel",
      "state": {}
     },
     "5713705476ab4b029c9de3d0322f7708": {
      "model_module": "@jupyter-widgets/base",
      "model_module_version": "1.2.0",
      "model_name": "LayoutModel",
      "state": {}
     },
     "59d1acc1630d49fe9604626e96db851d": {
      "model_module": "@jupyter-widgets/controls",
      "model_module_version": "1.5.0",
      "model_name": "HBoxModel",
      "state": {
       "children": [
        "IPY_MODEL_e03b3740774e4027b0e42d07e91bd20a",
        "IPY_MODEL_b475daec0c8b472d9f3e68cb7e5b9a7c"
       ],
       "layout": "IPY_MODEL_821ef01d3ffd4f1e82d7a6ad1fd047fe"
      }
     },
     "5d68178dc9f441eebb3eb4d396be5f80": {
      "model_module": "@jupyter-widgets/base",
      "model_module_version": "1.2.0",
      "model_name": "LayoutModel",
      "state": {}
     },
     "5d6f18dd39454a79a30449e5fd02ce2c": {
      "model_module": "@jupyter-widgets/controls",
      "model_module_version": "1.5.0",
      "model_name": "TextareaModel",
      "state": {
       "layout": "IPY_MODEL_1ce29500acc449739e4ca0e64f383f96",
       "style": "IPY_MODEL_175321d994554f84a3769969f1321dff",
       "value": "sample: Lyso190304\nregion: 3\nrun: 0\ncrystal_id: 1\ncrystal_x: 576.5762884844361\ncrystal_y: 66.43765946589556\npos_x: 559.976288484436\npos_y: 69.13765946589558\nselected: True\nsubset: entry\nshutter_time: 2.0\nagg_len: 4\nfile_raw: raw_data/LysoS1_001_00000.nxs\nEvent_raw: entry//28\nadf1: 24.0308914338215\nadf2: 11.482124846867\ncenter_refine_score: 0.0029589381907013184\ncenter_x: 726.5131656134291\ncenter_y: 292.6114652649907\ncom_x: 726.5849946757671\ncom_y: 292.49520185441963\ndet_shift_x_mm: 2.830082762418172\ndet_shift_y_mm: -1.9022371136892238\nlor_hwhm: 7.634021617656879\nlor_pk: 1181.4957450306008\nlor_x: 726.6970919435763\nlor_y: 293.14348943436306\nnum_peaks: 26\nii_from: 1\nnum_lores_peaks: 23\nfile: proc_data/LysoS1_001_00000_agg_hit.h5\nEvent: entry//0\nshot_in_subset: 0"
      }
     },
     "5f3c305f41d14fb4a75abb732b6a92ab": {
      "model_module": "@jupyter-widgets/base",
      "model_module_version": "1.2.0",
      "model_name": "LayoutModel",
      "state": {}
     },
     "627d657b507046d080ee31ce8ede4495": {
      "model_module": "@jupyter-widgets/controls",
      "model_module_version": "1.5.0",
      "model_name": "VBoxModel",
      "state": {
       "_dom_classes": [
        "widget-interact"
       ],
       "children": [
        "IPY_MODEL_fc408110e625439fa19bb96fd88fa324",
        "IPY_MODEL_ee6108a0a6784185be95629657d4db02",
        "IPY_MODEL_688c800053bb4b0eb4e5530d5a74404c",
        "IPY_MODEL_ce76b5322c3141438c68f15a13a56975"
       ],
       "layout": "IPY_MODEL_cee084fb774e44c3b7e75b5c4669df7e"
      }
     },
     "648e8511d27b471996f2d9094ffa1977": {
      "model_module": "@jupyter-widgets/controls",
      "model_module_version": "1.5.0",
      "model_name": "SliderStyleModel",
      "state": {
       "description_width": ""
      }
     },
     "65b849659a994b3ea3d833bf2cf0318d": {
      "model_module": "@jupyter-widgets/controls",
      "model_module_version": "1.5.0",
      "model_name": "DescriptionStyleModel",
      "state": {
       "description_width": ""
      }
     },
     "688c800053bb4b0eb4e5530d5a74404c": {
      "model_module": "@jupyter-widgets/controls",
      "model_module_version": "1.5.0",
      "model_name": "CheckboxModel",
      "state": {
       "description": "log",
       "disabled": false,
       "layout": "IPY_MODEL_c031cd1381a8466286c6923322e376d3",
       "style": "IPY_MODEL_03db22939b7a439e8e9a9a2f4737c431",
       "value": true
      }
     },
     "691b21b68fee47c7a17d673e18552320": {
      "model_module": "@jupyter-widgets/controls",
      "model_module_version": "1.5.0",
      "model_name": "SliderStyleModel",
      "state": {
       "description_width": ""
      }
     },
     "6a285e4fe5124e1f8b9a1d16fab23f9a": {
      "model_module": "@jupyter-widgets/controls",
      "model_module_version": "1.5.0",
      "model_name": "DescriptionStyleModel",
      "state": {
       "description_width": ""
      }
     },
     "71d34084a73b40068103d44266565d23": {
      "model_module": "@jupyter-widgets/base",
      "model_module_version": "1.2.0",
      "model_name": "LayoutModel",
      "state": {}
     },
     "7260301a435b468395efbff7fb643bd8": {
      "model_module": "@jupyter-widgets/base",
      "model_module_version": "1.2.0",
      "model_name": "LayoutModel",
      "state": {}
     },
     "73c287ca1a7844dd8e110afc8ec31eb6": {
      "model_module": "@jupyter-widgets/base",
      "model_module_version": "1.2.0",
      "model_name": "LayoutModel",
      "state": {}
     },
     "745868574b55441eb370d247f61845fe": {
      "model_module": "@jupyter-widgets/controls",
      "model_module_version": "1.5.0",
      "model_name": "HBoxModel",
      "state": {
       "children": [
        "IPY_MODEL_1b114700b20a419cb75e5f502e47f3f3",
        "IPY_MODEL_044274cb470e4377b9e6d498331a59b5"
       ],
       "layout": "IPY_MODEL_11d22a607dfd48b88ca5aa87db77c878"
      }
     },
     "769a58cfbae9405caec99490a1e13749": {
      "model_module": "@jupyter-widgets/base",
      "model_module_version": "1.2.0",
      "model_name": "LayoutModel",
      "state": {}
     },
     "76efe51f6e4d4a589542e991abbc79a1": {
      "model_module": "@jupyter-widgets/base",
      "model_module_version": "1.2.0",
      "model_name": "LayoutModel",
      "state": {}
     },
     "78402989127b4b7aa179d08bd1b0bc40": {
      "model_module": "@jupyter-widgets/output",
      "model_module_version": "1.0.0",
      "model_name": "OutputModel",
      "state": {
       "layout": "IPY_MODEL_9bf9230701e049e4ba1c2c0939a4bc50",
       "outputs": [
        {
         "data": {
          "application/vnd.jupyter.widget-view+json": {
           "model_id": "73b7beea113547b5a598b140009aadcb",
           "version_major": 2,
           "version_minor": 0
          },
          "text/plain": "Canvas(toolbar=Toolbar(toolitems=[('Home', 'Reset original view', 'home', 'home'), ('Back', 'Back to previous …"
         },
         "metadata": {},
         "output_type": "display_data"
        }
       ]
      }
     },
     "791f41a77c15404ea738714dfae8955c": {
      "model_module": "@jupyter-widgets/base",
      "model_module_version": "1.2.0",
      "model_name": "LayoutModel",
      "state": {}
     },
     "7b6e5280b7244e16b754652ea6398481": {
      "model_module": "@jupyter-widgets/base",
      "model_module_version": "1.2.0",
      "model_name": "LayoutModel",
      "state": {}
     },
     "7cf45a7bf7fc4dcb9076c0e1ef102e1f": {
      "model_module": "@jupyter-widgets/controls",
      "model_module_version": "1.5.0",
      "model_name": "DescriptionStyleModel",
      "state": {
       "description_width": ""
      }
     },
     "7ed5ae67ba614ca2bdfc1e9cb22fd554": {
      "model_module": "@jupyter-widgets/controls",
      "model_module_version": "1.5.0",
      "model_name": "HBoxModel",
      "state": {
       "children": [
        "IPY_MODEL_4caef789cead443fae01997bc88b3b5d",
        "IPY_MODEL_d2935c957ff54b3dadd325e09da0517a"
       ],
       "layout": "IPY_MODEL_440bf3dcf128434fa077ef4905e4d978"
      }
     },
     "7ee2c58ea9354bb9a36668c28f67a6bf": {
      "model_module": "@jupyter-widgets/controls",
      "model_module_version": "1.5.0",
      "model_name": "VBoxModel",
      "state": {
       "children": [
        "IPY_MODEL_22f4f03f489142738c0658435e03ad19",
        "IPY_MODEL_ae21fcd148cf485f8b24a1412ff02bd0"
       ],
       "layout": "IPY_MODEL_73c287ca1a7844dd8e110afc8ec31eb6"
      }
     },
     "7ee6f7a0be5042a6a469daa7394a3a99": {
      "model_module": "@jupyter-widgets/base",
      "model_module_version": "1.2.0",
      "model_name": "LayoutModel",
      "state": {}
     },
     "821ef01d3ffd4f1e82d7a6ad1fd047fe": {
      "model_module": "@jupyter-widgets/base",
      "model_module_version": "1.2.0",
      "model_name": "LayoutModel",
      "state": {}
     },
     "8369cf2a25a34ebd9e73c2d415c5f074": {
      "model_module": "@jupyter-widgets/controls",
      "model_module_version": "1.5.0",
      "model_name": "LabelModel",
      "state": {
       "layout": "IPY_MODEL_bf2c85bd076e42fd868f3473e9f29fdd",
       "style": "IPY_MODEL_c794747261fa4e47a04e5b1bfa806324",
       "value": "1308 of 1308 shots selected."
      }
     },
     "83ba80fe2d5548ba80760456ea4c724c": {
      "model_module": "@jupyter-widgets/base",
      "model_module_version": "1.2.0",
      "model_name": "LayoutModel",
      "state": {}
     },
     "84008e768ae348da8da9c971614d739c": {
      "model_module": "@jupyter-widgets/base",
      "model_module_version": "1.2.0",
      "model_name": "LayoutModel",
      "state": {}
     },
     "85cc07117133400f805ff5bade7b8e42": {
      "model_module": "jupyter-matplotlib",
      "model_module_version": "^0.9.0",
      "model_name": "ToolbarModel",
      "state": {
       "layout": "IPY_MODEL_84008e768ae348da8da9c971614d739c",
       "toolitems": [
        [
         "Home",
         "Reset original view",
         "home",
         "home"
        ],
        [
         "Back",
         "Back to previous view",
         "arrow-left",
         "back"
        ],
        [
         "Forward",
         "Forward to next view",
         "arrow-right",
         "forward"
        ],
        [
         "Pan",
         "Left button pans, Right button zooms\nx/y fixes axis, CTRL fixes aspect",
         "arrows",
         "pan"
        ],
        [
         "Zoom",
         "Zoom to rectangle\nx/y fixes axis, CTRL fixes aspect",
         "square-o",
         "zoom"
        ],
        [
         "Download",
         "Download plot",
         "floppy-o",
         "save_figure"
        ]
       ]
      }
     },
     "8b3b7561e8c4471987d19bb7a6bb8fb9": {
      "model_module": "@jupyter-widgets/controls",
      "model_module_version": "1.5.0",
      "model_name": "LabelModel",
      "state": {
       "layout": "IPY_MODEL_f343d8865b9b497093d789561970677f",
       "style": "IPY_MODEL_d0a51968710942feb3c2d13b63fb31eb",
       "value": "2146 of 2146 shots selected."
      }
     },
     "8c09b29c8b76413589bb303a3c86602f": {
      "model_module": "@jupyter-widgets/base",
      "model_module_version": "1.2.0",
      "model_name": "LayoutModel",
      "state": {
       "height": "100%"
      }
     },
     "921121f055a74445aa6d6d0e716cccbf": {
      "model_module": "@jupyter-widgets/base",
      "model_module_version": "1.2.0",
      "model_name": "LayoutModel",
      "state": {}
     },
     "9882574c66894cb38cb5c03c21944b8a": {
      "model_module": "jupyter-matplotlib",
      "model_module_version": "^0.9.0",
      "model_name": "ToolbarModel",
      "state": {
       "layout": "IPY_MODEL_f03325ebdf3f43dbb000f607d5b8aacc",
       "orientation": "horizontal",
       "toolitems": [
        [
         "Home",
         "Reset original view",
         "home",
         "home"
        ],
        [
         "Back",
         "Back to previous view",
         "arrow-left",
         "back"
        ],
        [
         "Forward",
         "Forward to next view",
         "arrow-right",
         "forward"
        ],
        [
         "Pan",
         "Left button pans, Right button zooms\nx/y fixes axis, CTRL fixes aspect",
         "arrows",
         "pan"
        ],
        [
         "Zoom",
         "Zoom to rectangle\nx/y fixes axis, CTRL fixes aspect",
         "square-o",
         "zoom"
        ],
        [
         "Download",
         "Download plot",
         "floppy-o",
         "save_figure"
        ]
       ]
      }
     },
     "9aebd4ea1a8a4de99870cf3fbcd4255e": {
      "model_module": "@jupyter-widgets/base",
      "model_module_version": "1.2.0",
      "model_name": "LayoutModel",
      "state": {}
     },
     "9b5480584fa8495589829345856c032d": {
      "model_module": "@jupyter-widgets/base",
      "model_module_version": "1.2.0",
      "model_name": "LayoutModel",
      "state": {}
     },
     "9bf9230701e049e4ba1c2c0939a4bc50": {
      "model_module": "@jupyter-widgets/base",
      "model_module_version": "1.2.0",
      "model_name": "LayoutModel",
      "state": {}
     },
     "a4731bdd6ad344698780f03c84502f12": {
      "model_module": "@jupyter-widgets/controls",
      "model_module_version": "1.5.0",
      "model_name": "LabelModel",
      "state": {
       "layout": "IPY_MODEL_b18b34430acb44218e3ca7521dd226c1",
       "style": "IPY_MODEL_65b849659a994b3ea3d833bf2cf0318d",
       "value": "30 of 30 shots selected."
      }
     },
     "a6b22c14be9d4854955f95d68107c626": {
      "model_module": "@jupyter-widgets/base",
      "model_module_version": "1.2.0",
      "model_name": "LayoutModel",
      "state": {}
     },
     "a84b861226964720a744dde3f1e14da6": {
      "model_module": "@jupyter-widgets/controls",
      "model_module_version": "1.5.0",
      "model_name": "TextareaModel",
      "state": {
       "layout": "IPY_MODEL_8c09b29c8b76413589bb303a3c86602f",
       "style": "IPY_MODEL_ad65b04e3ff048978cb51ee20104b453",
       "value": "sample: Lyso190304\nregion: 3\nrun: 0\ncrystal_id: 0\ncrystal_x: 657.0\ncrystal_y: 35.0\npos_x: 640.4\npos_y: 37.700000000000045\nselected: True\nsubset: entry\nshutter_time: 2.0\nagg_len: 4\nfile: proc_data/LysoS1_001_00000_agg.h5\nfile_raw: raw_data/LysoS1_001_00000.nxs\nEvent: entry//0\nshot_in_subset: 0\nEvent_raw: entry//2"
      }
     },
     "aa0ab9fa62864daaa3e21e2af647a793": {
      "model_module": "@jupyter-widgets/base",
      "model_module_version": "1.2.0",
      "model_name": "LayoutModel",
      "state": {}
     },
     "abaf7ddc921b47f7b0c27cd23a90ac7d": {
      "model_module": "@jupyter-widgets/base",
      "model_module_version": "1.2.0",
      "model_name": "LayoutModel",
      "state": {}
     },
     "acc52e5ff69b413d8b52663083d2801b": {
      "model_module": "@jupyter-widgets/controls",
      "model_module_version": "1.5.0",
      "model_name": "DescriptionStyleModel",
      "state": {
       "description_width": ""
      }
     },
     "ad65b04e3ff048978cb51ee20104b453": {
      "model_module": "@jupyter-widgets/controls",
      "model_module_version": "1.5.0",
      "model_name": "DescriptionStyleModel",
      "state": {
       "description_width": ""
      }
     },
     "adaffe0b8b9346fabc983380c41c0138": {
      "model_module": "@jupyter-widgets/controls",
      "model_module_version": "1.5.0",
      "model_name": "VBoxModel",
      "state": {
       "_dom_classes": [
        "widget-interact"
       ],
       "children": [
        "IPY_MODEL_c3c81741975948cab210e6e559786291",
        "IPY_MODEL_01d4b2b01e7c425684a502a97d2c381c",
        "IPY_MODEL_ecf8a8c10f1841d5808acbabdbc565b5",
        "IPY_MODEL_f484c5008b9343db861477405b54da8b"
       ],
       "layout": "IPY_MODEL_769a58cfbae9405caec99490a1e13749"
      }
     },
     "ae21fcd148cf485f8b24a1412ff02bd0": {
      "model_module": "@jupyter-widgets/controls",
      "model_module_version": "1.5.0",
      "model_name": "HBoxModel",
      "state": {
       "children": [
        "IPY_MODEL_e66af5cdb48547a9b15b0ec647840366",
        "IPY_MODEL_8b3b7561e8c4471987d19bb7a6bb8fb9",
        "IPY_MODEL_ee6108a0a6784185be95629657d4db02",
        "IPY_MODEL_688c800053bb4b0eb4e5530d5a74404c"
       ],
       "layout": "IPY_MODEL_44492a6899cb4858a4a75ed5b24f22ab"
      }
     },
     "ae2f970c5f574bf1b8b0aa51c591596f": {
      "model_module": "@jupyter-widgets/controls",
      "model_module_version": "1.5.0",
      "model_name": "LabelModel",
      "state": {
       "layout": "IPY_MODEL_2d93faf263bc46d3a16935b37001e016",
       "style": "IPY_MODEL_acc52e5ff69b413d8b52663083d2801b",
       "value": "1308 of 1308 shots selected."
      }
     },
     "b18b34430acb44218e3ca7521dd226c1": {
      "model_module": "@jupyter-widgets/base",
      "model_module_version": "1.2.0",
      "model_name": "LayoutModel",
      "state": {}
     },
     "b406f00a81f84e3ebebfc8b066c7ba9c": {
      "model_module": "@jupyter-widgets/base",
      "model_module_version": "1.2.0",
      "model_name": "LayoutModel",
      "state": {}
     },
     "b475daec0c8b472d9f3e68cb7e5b9a7c": {
      "model_module": "@jupyter-widgets/output",
      "model_module_version": "1.0.0",
      "model_name": "OutputModel",
      "state": {
       "layout": "IPY_MODEL_83ba80fe2d5548ba80760456ea4c724c",
       "outputs": [
        {
         "data": {
          "application/vnd.jupyter.widget-view+json": {
           "model_id": "38315eda0a8e45078aac46a6572e6189",
           "version_major": 2,
           "version_minor": 0
          },
          "text/plain": "Canvas(toolbar=Toolbar(toolitems=[('Home', 'Reset original view', 'home', 'home'), ('Back', 'Back to previous …"
         },
         "metadata": {},
         "output_type": "display_data"
        }
       ]
      }
     },
     "b5ab1a7458964523830611c6261b6675": {
      "model_module": "@jupyter-widgets/base",
      "model_module_version": "1.2.0",
      "model_name": "LayoutModel",
      "state": {}
     },
     "b5c16a05cc2443bf987ca1df70bf0544": {
      "model_module": "@jupyter-widgets/base",
      "model_module_version": "1.2.0",
      "model_name": "LayoutModel",
      "state": {}
     },
     "bcf6b6d807004a499448218013776abf": {
      "model_module": "@jupyter-widgets/controls",
      "model_module_version": "1.5.0",
      "model_name": "HBoxModel",
      "state": {
       "children": [
        "IPY_MODEL_161d772e8a204233a03d24a13d3d4cbb",
        "IPY_MODEL_ae2f970c5f574bf1b8b0aa51c591596f",
        "IPY_MODEL_54492bd98cad4bd0b14ce288d3d58dc0",
        "IPY_MODEL_e36b0cf6c7d646069fa74af13b6c1b53"
       ],
       "layout": "IPY_MODEL_5f3c305f41d14fb4a75abb732b6a92ab"
      }
     },
     "bf2c85bd076e42fd868f3473e9f29fdd": {
      "model_module": "@jupyter-widgets/base",
      "model_module_version": "1.2.0",
      "model_name": "LayoutModel",
      "state": {}
     },
     "c031cd1381a8466286c6923322e376d3": {
      "model_module": "@jupyter-widgets/base",
      "model_module_version": "1.2.0",
      "model_name": "LayoutModel",
      "state": {}
     },
     "c3c81741975948cab210e6e559786291": {
      "model_module": "@jupyter-widgets/controls",
      "model_module_version": "1.5.0",
      "model_name": "IntSliderModel",
      "state": {
       "description": "shot",
       "layout": "IPY_MODEL_563cce3fe2c74b088de345ba4fe34f6c",
       "max": 30,
       "style": "IPY_MODEL_f425dafc718d4db088f725b86508c5e6"
      }
     },
     "c75d0216450a4f00be3ba3da458cf597": {
      "model_module": "@jupyter-widgets/controls",
      "model_module_version": "1.5.0",
      "model_name": "ToggleButtonModel",
      "state": {
       "description": "selected",
       "layout": "IPY_MODEL_34c318441a764c03bd5fde4f44150d36",
       "style": "IPY_MODEL_3a93cffc9e1d48458d36e774a7175f4e",
       "value": true
      }
     },
     "c794747261fa4e47a04e5b1bfa806324": {
      "model_module": "@jupyter-widgets/controls",
      "model_module_version": "1.5.0",
      "model_name": "DescriptionStyleModel",
      "state": {
       "description_width": ""
      }
     },
     "cdfb6e2e8d6242c08662f6127ff40e87": {
      "model_module": "@jupyter-widgets/controls",
      "model_module_version": "1.5.0",
      "model_name": "VBoxModel",
      "state": {
       "children": [
        "IPY_MODEL_a84b861226964720a744dde3f1e14da6",
        "IPY_MODEL_fc408110e625439fa19bb96fd88fa324"
       ],
       "layout": "IPY_MODEL_b5ab1a7458964523830611c6261b6675"
      }
     },
     "ce76b5322c3141438c68f15a13a56975": {
      "model_module": "@jupyter-widgets/output",
      "model_module_version": "1.0.0",
      "model_name": "OutputModel",
      "state": {
       "layout": "IPY_MODEL_e6e78d53be97401eb7f796d88bf7d5e6"
      }
     },
     "cee084fb774e44c3b7e75b5c4669df7e": {
      "model_module": "@jupyter-widgets/base",
      "model_module_version": "1.2.0",
      "model_name": "LayoutModel",
      "state": {}
     },
     "d0a51968710942feb3c2d13b63fb31eb": {
      "model_module": "@jupyter-widgets/controls",
      "model_module_version": "1.5.0",
      "model_name": "DescriptionStyleModel",
      "state": {
       "description_width": ""
      }
     },
     "d141c8b8a3ac4ed09766881227169899": {
      "model_module": "@jupyter-widgets/controls",
      "model_module_version": "1.5.0",
      "model_name": "SliderStyleModel",
      "state": {
       "description_width": ""
      }
     },
     "d27ca7b9c92a495781894f709f8aa3fe": {
      "model_module": "@jupyter-widgets/output",
      "model_module_version": "1.0.0",
      "model_name": "OutputModel",
      "state": {
       "layout": "IPY_MODEL_b5c16a05cc2443bf987ca1df70bf0544"
      }
     },
     "d2935c957ff54b3dadd325e09da0517a": {
      "model_module": "@jupyter-widgets/output",
      "model_module_version": "1.0.0",
      "model_name": "OutputModel",
      "state": {
       "layout": "IPY_MODEL_04e6673278204b999c13ec81e4b5f497",
       "outputs": [
        {
         "data": {
          "application/vnd.jupyter.widget-view+json": {
           "model_id": "4722026503a8416aa302527b241dd4ca",
           "version_major": 2,
           "version_minor": 0
          },
          "text/plain": "Canvas(toolbar=Toolbar(toolitems=[('Home', 'Reset original view', 'home', 'home'), ('Back', 'Back to previous …"
         },
         "metadata": {},
         "output_type": "display_data"
        }
       ]
      }
     },
     "db0c08c39cda47cbabb880dd7490c816": {
      "model_module": "@jupyter-widgets/base",
      "model_module_version": "1.2.0",
      "model_name": "LayoutModel",
      "state": {}
     },
     "db31a2c73968460583dc73c1e86ababd": {
      "model_module": "@jupyter-widgets/controls",
      "model_module_version": "1.5.0",
      "model_name": "VBoxModel",
      "state": {
       "children": [
        "IPY_MODEL_59d1acc1630d49fe9604626e96db851d",
        "IPY_MODEL_bcf6b6d807004a499448218013776abf"
       ],
       "layout": "IPY_MODEL_9b5480584fa8495589829345856c032d"
      }
     },
     "dd52c420371341c3aee9e44ec6726c82": {
      "model_module": "@jupyter-widgets/controls",
      "model_module_version": "1.5.0",
      "model_name": "DescriptionStyleModel",
      "state": {
       "description_width": ""
      }
     },
     "df5993b2957b4786aa75d3f0775a63e0": {
      "model_module": "@jupyter-widgets/base",
      "model_module_version": "1.2.0",
      "model_name": "LayoutModel",
      "state": {}
     },
     "e03b3740774e4027b0e42d07e91bd20a": {
      "model_module": "@jupyter-widgets/controls",
      "model_module_version": "1.5.0",
      "model_name": "VBoxModel",
      "state": {
       "children": [
        "IPY_MODEL_343548110d694a88ab2a6d6577d89e2d",
        "IPY_MODEL_3ece06004710443886e0b4e8727a2674"
       ],
       "layout": "IPY_MODEL_090a23afb405494a97a7839bb763d21f"
      }
     },
     "e22fdba08a7b4c8eb46edddc2a281791": {
      "model_module": "@jupyter-widgets/base",
      "model_module_version": "1.2.0",
      "model_name": "LayoutModel",
      "state": {}
     },
     "e36b0cf6c7d646069fa74af13b6c1b53": {
      "model_module": "@jupyter-widgets/controls",
      "model_module_version": "1.5.0",
      "model_name": "CheckboxModel",
      "state": {
       "description": "log",
       "disabled": false,
       "layout": "IPY_MODEL_55b572a95b6f4dfe80b6af3ecf00a35a",
       "style": "IPY_MODEL_dd52c420371341c3aee9e44ec6726c82",
       "value": false
      }
     },
     "e66af5cdb48547a9b15b0ec647840366": {
      "model_module": "@jupyter-widgets/controls",
      "model_module_version": "1.5.0",
      "model_name": "ToggleButtonModel",
      "state": {
       "description": "selected",
       "layout": "IPY_MODEL_b406f00a81f84e3ebebfc8b066c7ba9c",
       "style": "IPY_MODEL_41cdcba985ff4f5890e913b0559f7b42",
       "value": true
      }
     },
     "e6e78d53be97401eb7f796d88bf7d5e6": {
      "model_module": "@jupyter-widgets/base",
      "model_module_version": "1.2.0",
      "model_name": "LayoutModel",
      "state": {}
     },
     "e9d80df85f464db693d8f48586eee67a": {
      "model_module": "jupyter-matplotlib",
      "model_module_version": "^0.9.0",
      "model_name": "ToolbarModel",
      "state": {
       "layout": "IPY_MODEL_4433fdf1c28e4c5e856909c99a32c3f1",
       "toolitems": [
        [
         "Home",
         "Reset original view",
         "home",
         "home"
        ],
        [
         "Back",
         "Back to previous view",
         "arrow-left",
         "back"
        ],
        [
         "Forward",
         "Forward to next view",
         "arrow-right",
         "forward"
        ],
        [
         "Pan",
         "Left button pans, Right button zooms\nx/y fixes axis, CTRL fixes aspect",
         "arrows",
         "pan"
        ],
        [
         "Zoom",
         "Zoom to rectangle\nx/y fixes axis, CTRL fixes aspect",
         "square-o",
         "zoom"
        ],
        [
         "Download",
         "Download plot",
         "floppy-o",
         "save_figure"
        ]
       ]
      }
     },
     "ecf8a8c10f1841d5808acbabdbc565b5": {
      "model_module": "@jupyter-widgets/controls",
      "model_module_version": "1.5.0",
      "model_name": "CheckboxModel",
      "state": {
       "description": "log",
       "disabled": false,
       "layout": "IPY_MODEL_7260301a435b468395efbff7fb643bd8",
       "style": "IPY_MODEL_40eaeb51188843dfb3eee93174e71d04",
       "value": true
      }
     },
     "edf82ed5d0cb4fac8448d1df56314e94": {
      "model_module": "jupyter-matplotlib",
      "model_module_version": "^0.9.0",
      "model_name": "ToolbarModel",
      "state": {
       "layout": "IPY_MODEL_7b6e5280b7244e16b754652ea6398481",
       "orientation": "horizontal",
       "toolitems": [
        [
         "Home",
         "Reset original view",
         "home",
         "home"
        ],
        [
         "Back",
         "Back to previous view",
         "arrow-left",
         "back"
        ],
        [
         "Forward",
         "Forward to next view",
         "arrow-right",
         "forward"
        ],
        [
         "Pan",
         "Left button pans, Right button zooms\nx/y fixes axis, CTRL fixes aspect",
         "arrows",
         "pan"
        ],
        [
         "Zoom",
         "Zoom to rectangle\nx/y fixes axis, CTRL fixes aspect",
         "square-o",
         "zoom"
        ],
        [
         "Download",
         "Download plot",
         "floppy-o",
         "save_figure"
        ]
       ]
      }
     },
     "ee6108a0a6784185be95629657d4db02": {
      "model_module": "@jupyter-widgets/controls",
      "model_module_version": "1.5.0",
      "model_name": "FloatTextModel",
      "state": {
       "description": "Imax",
       "layout": "IPY_MODEL_5713705476ab4b029c9de3d0322f7708",
       "step": null,
       "style": "IPY_MODEL_217fb276bc064c01b4cc306ae5172ca6",
       "value": 4000
      }
     },
     "f03325ebdf3f43dbb000f607d5b8aacc": {
      "model_module": "@jupyter-widgets/base",
      "model_module_version": "1.2.0",
      "model_name": "LayoutModel",
      "state": {}
     },
     "f343d8865b9b497093d789561970677f": {
      "model_module": "@jupyter-widgets/base",
      "model_module_version": "1.2.0",
      "model_name": "LayoutModel",
      "state": {}
     },
     "f425dafc718d4db088f725b86508c5e6": {
      "model_module": "@jupyter-widgets/controls",
      "model_module_version": "1.5.0",
      "model_name": "SliderStyleModel",
      "state": {
       "description_width": ""
      }
     },
     "f484c5008b9343db861477405b54da8b": {
      "model_module": "@jupyter-widgets/output",
      "model_module_version": "1.0.0",
      "model_name": "OutputModel",
      "state": {
       "layout": "IPY_MODEL_31a785b32d124b1499594081999bc606"
      }
     },
     "f61d829a20d5402d8fc3cf6da90dd170": {
      "model_module": "@jupyter-widgets/base",
      "model_module_version": "1.2.0",
      "model_name": "LayoutModel",
      "state": {}
     },
     "f649cbec84964827a031228dfcd408d4": {
      "model_module": "@jupyter-widgets/controls",
      "model_module_version": "1.5.0",
      "model_name": "DescriptionStyleModel",
      "state": {
       "description_width": ""
      }
     },
     "fb7c34e2cf994dbc9b17b537676af13c": {
      "model_module": "@jupyter-widgets/controls",
      "model_module_version": "1.5.0",
      "model_name": "CheckboxModel",
      "state": {
       "description": "log",
       "disabled": false,
       "layout": "IPY_MODEL_abaf7ddc921b47f7b0c27cd23a90ac7d",
       "style": "IPY_MODEL_164ff4bc713a452188d1e429d31ea3ac",
       "value": false
      }
     },
     "fc0e1711dc074628bf361611008e6e69": {
      "model_module": "@jupyter-widgets/controls",
      "model_module_version": "1.5.0",
      "model_name": "VBoxModel",
      "state": {
       "children": [
        "IPY_MODEL_745868574b55441eb370d247f61845fe",
        "IPY_MODEL_2654fea4cc154673a2a832cf306af343"
       ],
       "layout": "IPY_MODEL_3cc867373eea465884ea5f737604bc0b"
      }
     },
     "fc408110e625439fa19bb96fd88fa324": {
      "model_module": "@jupyter-widgets/controls",
      "model_module_version": "1.5.0",
      "model_name": "IntSliderModel",
      "state": {
       "description": "shot",
       "layout": "IPY_MODEL_df5993b2957b4786aa75d3f0775a63e0",
       "max": 2146,
       "style": "IPY_MODEL_691b21b68fee47c7a17d673e18552320"
      }
     }
    },
    "version_major": 2,
    "version_minor": 0
   }
  }
 },
 "nbformat": 4,
 "nbformat_minor": 4
}
